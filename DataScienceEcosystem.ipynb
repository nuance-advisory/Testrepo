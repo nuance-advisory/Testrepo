{
  "metadata": {
    "kernelspec": {
      "name": "python",
      "display_name": "Python (Pyodide)",
      "language": "python"
    },
    "language_info": {
      "codemirror_mode": {
        "name": "python",
        "version": 3
      },
      "file_extension": ".py",
      "mimetype": "text/x-python",
      "name": "python",
      "nbconvert_exporter": "python",
      "pygments_lexer": "ipython3",
      "version": "3.8"
    }
  },
  "nbformat_minor": 5,
  "nbformat": 4,
  "cells": [
    {
      "id": "601ad8d4-eb6c-40ae-8d50-bd4462d47507",
      "cell_type": "markdown",
      "source": "# Data Science Tools and Ecosystem",
      "metadata": {}
    },
    {
      "id": "963ed88a-50e0-4f90-ab9d-1385597b62a3",
      "cell_type": "markdown",
      "source": "## Author\nRachel Cassar",
      "metadata": {}
    },
    {
      "id": "4cba2eb8-45e2-47e0-9276-4de4c89afeb8",
      "cell_type": "markdown",
      "source": "In this notebook, Data Science Tools and Ecosystem are summarized.",
      "metadata": {}
    },
    {
      "id": "148fed8a-07fc-439c-9510-f23834b3493c",
      "cell_type": "markdown",
      "source": "**Objectives**:\n - popular languages used in data science\n - popular libraries used in data science\n - data science tools\n - evaluating arithmetic expressions in Python",
      "metadata": {}
    },
    {
      "id": "16b7fa94-3eee-4199-933a-866afe42f308",
      "cell_type": "markdown",
      "source": "Some of the popular languages that Data Scientists use are:\n1. R\n2. Python\n3. SQL",
      "metadata": {}
    },
    {
      "id": "845a9a05-6879-4d09-b281-2b9adf68f55d",
      "cell_type": "markdown",
      "source": "Some of the commonly used libraries used by Data Scientists include:\n1. ggplot2\n2. ddplyr\n3. matplotlib",
      "metadata": {}
    },
    {
      "id": "aadb01a4-d573-4dfc-8c70-710f4259b093",
      "cell_type": "markdown",
      "source": "| Data Science Tools | \n|  ---------------- |\n| Jupyter Notebook |\n| Apache Zeppelin |\n| R Studio |\n",
      "metadata": {}
    },
    {
      "id": "d5e4a584-f359-414a-898c-dee9f010860c",
      "cell_type": "markdown",
      "source": "### Below are a few examples of evaluating arithmetic expressions in Python",
      "metadata": {}
    },
    {
      "id": "3d6ed576-fb49-4002-90b9-00d8b7d3855c",
      "cell_type": "code",
      "source": "# This is a simple arithmetic expression to multiply then add integers\n(3*4)+5",
      "metadata": {
        "trusted": true
      },
      "outputs": [
        {
          "execution_count": 2,
          "output_type": "execute_result",
          "data": {
            "text/plain": "17"
          },
          "metadata": {}
        }
      ],
      "execution_count": 2
    },
    {
      "id": "9fad4005-92eb-452c-abb0-b6fddec0e131",
      "cell_type": "code",
      "source": "# This will convert 200 minutes to hours by dividing by 60\nprint('200 minutes = ', 200 / 60, 'hours') ",
      "metadata": {
        "trusted": true
      },
      "outputs": [
        {
          "name": "stdout",
          "output_type": "stream",
          "text": "200 minutes =  3.3333333333333335 hours\n"
        }
      ],
      "execution_count": 4
    },
    {
      "id": "ee4112db-7aa8-4861-bf7a-e68849d3e724",
      "cell_type": "markdown",
      "source": "",
      "metadata": {}
    }
  ]
}